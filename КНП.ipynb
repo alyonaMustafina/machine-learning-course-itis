{
 "cells": [
  {
   "cell_type": "code",
   "execution_count": 1,
   "metadata": {},
   "outputs": [
    {
     "name": "stdout",
     "output_type": "stream",
     "text": [
      "[1, 1, 0, 1, 1, 1, 1, 0, 1, 1, 1, 1, 1, 1, 1]\n"
     ]
    }
   ],
   "source": [
    "import sys \n",
    "import numpy as np \n",
    "import matplotlib as plt \n",
    " \n",
    " \n",
    "def first_connection(): \n",
    "    minim = weight[0][1] \n",
    "    i_min, j_min = 0, 1 \n",
    "    for i in range(n): \n",
    "        for j in range(i + 1, n): \n",
    "            if minim > weight[i][j]: \n",
    "                minim = weight[i][j] \n",
    "                i_min, j_min = i, j \n",
    "    tree[i_min][j_min] = minim \n",
    "    tree[j_min][i_min] = minim \n",
    "    weight[i_min][j_min] = weight[j_min][i_min] = sys.maxsize \n",
    "    connect_pnt[i_min] = connect_pnt[j_min] = 1 \n",
    " \n",
    " \n",
    "def lync_all(): \n",
    "    minim = sys.maxsize \n",
    "    i_min, j_min = None, None \n",
    "    for i in range(n): \n",
    "        if connect_pnt[i] == 1: \n",
    "            for j in range(n): \n",
    "                if connect_pnt[j] == 0: \n",
    "                    if (minim > weight[i][j]): \n",
    "                        minim = weight[i][j] \n",
    "                        i_min, j_min = i, j \n",
    "    tree[i_min][j_min] = minim \n",
    "    tree[j_min][i_min] = minim \n",
    "    weight[i_min][j_min] = weight[j_min][i_min] = sys.maxsize \n",
    "    connect_pnt[i_min] = connect_pnt[j_min] = 1 \n",
    " \n",
    " \n",
    "def delete_connection(): \n",
    "    maxim = 0 \n",
    "    i_max = j_max = 0 \n",
    "    for i in range(n): \n",
    "        for j in range(i + 1, n): \n",
    "            if tree[i][j] > maxim: \n",
    "                maxim = tree[i][j] \n",
    "                i_max, j_max = i, j \n",
    "    tree[i_max][j_max] = tree[j_max][i_max] = 0 \n",
    " \n",
    " \n",
    "def cluster(cl): \n",
    "    change = False \n",
    "    for i in range(n): \n",
    "        for j in range(n): \n",
    "            if tree[i][j] != 0: \n",
    "                clust_pnt[i] = clust_pnt[j] = cl \n",
    "                tree[i][j] = tree[j][i] = 0 \n",
    "                change = True \n",
    "    return change \n",
    " \n",
    " \n",
    "n, k = 15, 3 \n",
    "# weight = np.random.randint(1,100, (n,n)) \n",
    "weight = [[0 for i in range(n)] for i in range(n)] \n",
    "for i in range(0, n): \n",
    "    for j in range(i + 1, n): \n",
    "        weight[i][j] = np.random.randint(1, 100) \n",
    "        weight[j][i] = weight[i][j] \n",
    "tree = [[0 for i in range(n)] for i in range(n)] \n",
    "connect_pnt = [0 for i in range(n)] \n",
    "first_connection() \n",
    "while 0 in connect_pnt: \n",
    "    lync_all() \n",
    "for i in range(k - 1): \n",
    "    delete_connection() \n",
    "clust_pnt = [0 for i in range(n)] \n",
    "clust_old = [-1 for i in range(n)] \n",
    "for i in range(1, k+1): \n",
    "    flag = True \n",
    "    while flag: \n",
    "        flag = cluster(i) \n",
    "print (clust_pnt)"
   ]
  },
  {
   "cell_type": "code",
   "execution_count": null,
   "metadata": {},
   "outputs": [],
   "source": []
  }
 ],
 "metadata": {
  "kernelspec": {
   "display_name": "Python 3",
   "language": "python",
   "name": "python3"
  },
  "language_info": {
   "codemirror_mode": {
    "name": "ipython",
    "version": 3
   },
   "file_extension": ".py",
   "mimetype": "text/x-python",
   "name": "python",
   "nbconvert_exporter": "python",
   "pygments_lexer": "ipython3",
   "version": "3.6.6"
  }
 },
 "nbformat": 4,
 "nbformat_minor": 4
}
