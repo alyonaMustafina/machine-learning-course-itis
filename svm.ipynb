{
 "cells": [
  {
   "cell_type": "code",
   "execution_count": 1,
   "metadata": {},
   "outputs": [
    {
     "name": "stdout",
     "output_type": "stream",
     "text": [
      "Requirement already satisfied: pygame in c:\\users\\alyona\\appdata\\local\\programs\\python\\python36\\lib\\site-packages (1.9.4)\n"
     ]
    }
   ],
   "source": [
    "!pip install pygame"
   ]
  },
  {
   "cell_type": "code",
   "execution_count": null,
   "metadata": {},
   "outputs": [
    {
     "name": "stdout",
     "output_type": "stream",
     "text": [
      "pygame 1.9.4\n",
      "Hello from the pygame community. https://www.pygame.org/contribute.html\n",
      "[[306 152]\n",
      " [302 166]\n",
      " [277 179]\n",
      " [252 191]\n",
      " [230 199]\n",
      " [208 211]\n",
      " [230 230]\n",
      " [262 246]\n",
      " [290 258]\n",
      " [321 275]\n",
      " [ 38  95]\n",
      " [ 38 119]\n",
      " [ 41 151]\n",
      " [ 45 179]\n",
      " [ 42 184]\n",
      " [ 42 195]\n",
      " [ 42 197]\n",
      " [ 42 197]\n",
      " [ 28 216]\n",
      " [ 29 218]\n",
      " [ 30 224]\n",
      " [ 33 231]\n",
      " [ 36 236]\n",
      " [ 43 244]\n",
      " [ 48 252]\n",
      " [ 50 271]\n",
      " [ 50 271]\n",
      " [ 31 295]\n",
      " [ 33 299]\n",
      " [ 47 310]\n",
      " [ 51 315]\n",
      " [ 51 316]\n",
      " [ 41 326]\n",
      " [ 30 334]\n",
      " [ 25 339]\n",
      " [ 46 359]\n",
      " [ 52 363]]\n",
      "[[ 45. 179.]\n",
      " [ 50. 271.]\n",
      " [ 50. 271.]\n",
      " [208. 211.]]\n",
      "[[ 0.01239756 -0.00067378]]\n"
     ]
    },
    {
     "data": {
      "image/png": "[encoded data removed]",
      "text/plain": [
       "<Figure size 432x288 with 1 Axes>"
      ]
     },
     "metadata": {
      "needs_background": "light"
     },
     "output_type": "display_data"
    }
   ],
   "source": [
    "import pygame\n",
    "from sklearn import svm\n",
    "import matplotlib.pyplot as plt\n",
    "import numpy as np\n",
    "\n",
    "if __name__ == '__main__':\n",
    "    pygame.init()\n",
    "\n",
    "    screen = pygame.display.set_mode((400, 400))\n",
    "    screen.fill((255, 255, 255))\n",
    "    pygame.display.update()\n",
    "\n",
    "    coords_x = []\n",
    "    coords_y = []\n",
    "    coords = []\n",
    "    clust = []\n",
    "\n",
    "    play = True\n",
    "    while play:\n",
    "        for event in pygame.event.get():\n",
    "            if event.type == pygame.QUIT:\n",
    "                play = False\n",
    "            if event.type == pygame.MOUSEBUTTONDOWN:\n",
    "                if event.button == 1:\n",
    "                    pygame.draw.circle(screen, (255, 0, 0), event.pos, 10)\n",
    "                    pygame.display.update()\n",
    "                    clust.append(0)\n",
    "                elif event.button == 3:\n",
    "                    pygame.draw.circle(screen, (0, 255, 0), event.pos, 10)\n",
    "                    pygame.display.update()\n",
    "                    clust.append(1)\n",
    "                coords_x.append(event.pos[0])\n",
    "                coords_y.append(event.pos[1])\n",
    "                coords.append(event.pos)\n",
    "            if event.type == pygame.KEYDOWN:\n",
    "                if event.key == pygame.K_r:\n",
    "                    clf = svm.SVC(C=1.0, kernel='linear')\n",
    "                    X = np.array(coords)\n",
    "                    print(X)\n",
    "                    Y = np.array(clust)\n",
    "                    clf.fit(X, Y)\n",
    "                    print(clf.support_vectors_)\n",
    "                    print(clf.coef_)\n",
    "                    b = clf.coef0\n",
    "                    w = clf.coef_[0]\n",
    "                    a = -w[0] / w[1]\n",
    "                    xx = np.linspace(0, 1000, 1000)\n",
    "                    yy = a * xx - (clf.intercept_[0]) / w[1]\n",
    "                    pygame.draw.line(\n",
    "                        screen,\n",
    "                        (0, 0, 255),\n",
    "                        (xx[0], yy[0]),\n",
    "                        (xx[-1], yy[-1]),\n",
    "                        2)\n",
    "                    pygame.display.update()\n",
    "                    plt.axis([0.0, 600.0, 600.0, 0.0])\n",
    "                    plt.plot(xx, yy, c='b')\n",
    "                    plt.scatter(X[:, 0], X[:, 1], c=Y)\n",
    "                    plt.xlabel(\"x\")\n",
    "                    plt.ylabel(\"y\")\n",
    "                    plt.show()"
   ]
  },
  {
   "cell_type": "code",
   "execution_count": null,
   "metadata": {},
   "outputs": [],
   "source": []
  }
 ],
 "metadata": {
  "kernelspec": {
   "display_name": "Python 3",
   "language": "python",
   "name": "python3"
  },
  "language_info": {
   "codemirror_mode": {
    "name": "ipython",
    "version": 3
   },
   "file_extension": ".py",
   "mimetype": "text/x-python",
   "name": "python",
   "nbconvert_exporter": "python",
   "pygments_lexer": "ipython3",
   "version": "3.6.6"
  }
 },
 "nbformat": 4,
 "nbformat_minor": 4
}
