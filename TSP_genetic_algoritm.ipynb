{
 "cells": [
  {
   "cell_type": "markdown",
   "metadata": {},
   "source": [
    "## Задача комивояжера"
   ]
  },
  {
   "cell_type": "code",
   "execution_count": 33,
   "metadata": {},
   "outputs": [
    {
     "name": "stdout",
     "output_type": "stream",
     "text": [
      "{55: [3, 6, 5, 4, 2], 60: [2, 3, 6, 5, 4], 68: [2, 6, 3, 5, 4]}\n"
     ]
    }
   ],
   "source": [
    "import numpy as np\n",
    "import random\n",
    "\n",
    "distances = [[0, 10, 8, 12, 19, 20],\n",
    "             [10, 0, 2, 1, 14, 15],\n",
    "             [8, 2, 0, 10, 17, 5],\n",
    "             [12, 1, 10, 0, 9, 13],\n",
    "             [19, 14, 17, 9, 0, 22],\n",
    "             [20, 15, 5, 13, 22, 0]]\n",
    "\n",
    "city = [2, 3, 4, 5, 6]\n",
    "start = 1\n",
    "minLen = 5\n",
    "\n",
    "data = dict()\n",
    "best = dict()\n",
    "\n",
    "\n",
    "def mutation1(y):\n",
    "    x = y.copy()\n",
    "    random.shuffle(x)\n",
    "    return x\n",
    "\n",
    "\n",
    "def count_distance(x):\n",
    "    summ = 0\n",
    "    summ += distances[start - 1][x[0] - 1]\n",
    "    for i in range(len(x) - 1):\n",
    "        summ += distances[x[i] - 1][x[i + 1] - 1]\n",
    "    summ += distances[x[-1] - 1][start - 1]\n",
    "    return summ\n",
    "\n",
    "\n",
    "def mutation2(y):\n",
    "    x = y.copy()\n",
    "    i = random.choice(city)\n",
    "    j = random.randint(0, len(x) - 1)\n",
    "    x.remove(i)\n",
    "    x.insert(j, i)\n",
    "    return x\n",
    "\n",
    "\n",
    "def new(x, y):\n",
    "    X, Y = x.copy(), y.copy()\n",
    "    i = random.randint(1, len(X) - 1)\n",
    "    X = X[i:]\n",
    "    for j in X:\n",
    "        Y.remove(j)\n",
    "    X.extend(Y)\n",
    "    return X\n",
    "\n",
    "\n",
    "def sort(x):\n",
    "    return dict(\n",
    "        sorted(x.items(), key=lambda item: item[0]))  # сортировка по ключам\n",
    "\n",
    "\n",
    "xx = [5, 3, 4, 6, 2]\n",
    "yy = [3, 5, 2, 6, 4]\n",
    "\n",
    "for child in range(30):  # 30 поколений\n",
    "    n = new(xx, yy)\n",
    "    data[count_distance(n)] = n\n",
    "\n",
    "    n = new(mutation1(xx), yy)\n",
    "    data[count_distance(n)] = n\n",
    "\n",
    "    n = new(xx, mutation1(yy))\n",
    "    data[count_distance(n)] = n\n",
    "\n",
    "    n = new(mutation1(xx), mutation1(yy))\n",
    "    data[count_distance(n)] = n\n",
    "\n",
    "    n = new(mutation2(xx), yy)\n",
    "    data[count_distance(n)] = n\n",
    "\n",
    "    n = new(xx, mutation2(yy))\n",
    "    data[count_distance(n)] = n\n",
    "\n",
    "    n = new(mutation2(xx), mutation2(yy))\n",
    "    data[count_distance(n)] = n\n",
    "\n",
    "    d = sort(data)\n",
    "    best[list(d.items())[0][0]] = list(d.items())[0][1]\n",
    "    xx = list(d.items())[0][1]\n",
    "    yx = list(d.items())[1][1]\n",
    "\n",
    "print(sort(best))\n"
   ]
  }
 ],
 "metadata": {
  "kernelspec": {
   "display_name": "Python 3",
   "language": "python",
   "name": "python3"
  },
  "language_info": {
   "codemirror_mode": {
    "name": "ipython",
    "version": 3
   },
   "file_extension": ".py",
   "mimetype": "text/x-python",
   "name": "python",
   "nbconvert_exporter": "python",
   "pygments_lexer": "ipython3",
   "version": "3.6.6"
  }
 },
 "nbformat": 4,
 "nbformat_minor": 4
}
