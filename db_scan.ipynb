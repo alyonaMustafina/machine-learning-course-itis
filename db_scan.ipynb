{
 "cells": [
  {
   "cell_type": "code",
   "execution_count": 134,
   "metadata": {},
   "outputs": [
    {
     "name": "stdout",
     "output_type": "stream",
     "text": [
      "cluster #1, pts num = 63, \n",
      "pts = [0, 1, 2, 3, 4, 5, 7, 8, 10, 11, 12, 13, 14, 15, 17, 18, 19, 20, 21, 23, 25, 26, 27, 29, 30, 34, 36, 38, 39, 41, 43, 44, 47, 50, 53, 54, 56, 57, 58, 59, 60, 61, 62, 63, 67, 68, 71, 72, 73, 74, 77, 78, 80, 81, 82, 85, 86, 87, 90, 92, 95, 98, 99]\n",
      "\n",
      "cluster #2, pts num = 3, \n",
      "pts = [9, 52, 93]\n",
      "\n",
      "cluster #3, pts num = 10, \n",
      "pts = [16, 24, 28, 33, 48, 65, 79, 83, 84, 88]\n",
      "\n",
      "cluster #4, pts num = 3, \n",
      "pts = [31, 35, 51]\n",
      "\n",
      "cluster #5, pts num = 9, \n",
      "pts = [32, 37, 40, 42, 45, 55, 69, 91, 96]\n",
      "\n",
      "noise, pts num = 12, \n",
      "noise = {64, 97, 66, 6, 70, 75, 76, 46, 49, 22, 89, 94}\n"
     ]
    },
    {
     "data": {
      "image/png": "[encoded data removed]",
      "text/plain": [
       "<Figure size 432x288 with 1 Axes>"
      ]
     },
     "metadata": {
      "needs_background": "light"
     },
     "output_type": "display_data"
    }
   ],
   "source": [
    "import matplotlib.pyplot as plt \n",
    "import numpy as np \n",
    "from enum import Enum \n",
    "\n",
    "\n",
    "def dist(x1, y1, x2, y2): \n",
    "    return np.sqrt((x1 - x2) ** 2 + (y1 - y2) ** 2) \n",
    "\n",
    "def dbscan(x, y, eps, minPts):\n",
    "    # Номер кластера\n",
    "    C = 0\n",
    "    for i in range(len(x)):\n",
    "        if not i in visited:\n",
    "            visited.add(i)\n",
    "            # Находим соседние точки\n",
    "            nghbPts = check_nghbs(x, y, i, eps)\n",
    "            if len(nghbPts) < minPts:\n",
    "                noise.add(i)\n",
    "            else:\n",
    "                # У этой точки ЗЕЛЕНЫЙ флаг\n",
    "                # Добавляем эту точку в новый кластер, обходим соседей, \n",
    "                # и если можно их тоже добавляем в кластер\n",
    "                C += 1\n",
    "                update_cluster(i, nghbPts, C, eps, minPts)\n",
    "                \n",
    "def update_cluster(i, nghbPts, C, eps, minPts):\n",
    "    if C not in clusters.keys():\n",
    "        clusters[C] = []\n",
    "    clusters[C].append(i)\n",
    "    for pt in nghbPts:\n",
    "        if not pt in visited:\n",
    "            visited.add(pt)\n",
    "            new_nghbPts = check_nghbs(x, y, pt, eps)\n",
    "            if len(new_nghbPts) >= minPts:\n",
    "                # Эта точка тоже ЗЕЛЕНАЯ, она потом добавится в кластер,\n",
    "                # т.к. есть в списке new_nghbPts и будет в обходе\n",
    "                nghbPts.extend(new_nghbPts)\n",
    "            else:\n",
    "                noise.add(pt)\n",
    "        else:\n",
    "            # ЖЕЛТЫЙ флаг, если точка была чьей-то краевой\n",
    "            member_of_cluster = False\n",
    "            for k, v in clusters.items():\n",
    "                if pt in v:\n",
    "                    member_of_cluster = True\n",
    "            if not member_of_cluster:\n",
    "                clusters[C].append(pt)\n",
    "                noise.discard(pt)\n",
    "\n",
    "def check_nghbs(x, y, i, eps):\n",
    "    pts = []\n",
    "    for p in range(len(x)):\n",
    "        if dist(x[i], y[i], x[p], y[p]) <= eps:\n",
    "            pts.append(p)\n",
    "    return pts\n",
    "\n",
    "n = 100 \n",
    "eps, minPts = 10, 3 \n",
    "x = np.random.randint(1, 100, n)\n",
    "y = np.random.randint(1, 100, n)\n",
    " \n",
    "clusters = {}\n",
    "visited = set()\n",
    "noise = set()\n",
    "\n",
    "dbscan(x, y, eps, minPts)\n",
    "\n",
    "clusters_cnt = len(clusters.keys())\n",
    "for k, v in clusters.items():\n",
    "    clr = k/clusters_cnt\n",
    "    print(f'cluster #{k}, pts num = {len(v)}, \\npts = {sorted(v)}\\n')\n",
    "    for i in v:\n",
    "        plt.scatter(x[i], y[i], color= (clr**5, 0.5, clr **2))\n",
    "print(f'noise, pts num = {len(noise)}, \\nnoise = {noise}')\n",
    "for i in noise:\n",
    "    plt.scatter(x[i], y[i], c='r')\n",
    "plt.show()\n"
   ]
  }
 ],
 "metadata": {
  "kernelspec": {
   "display_name": "Python 3",
   "language": "python",
   "name": "python3"
  },
  "language_info": {
   "codemirror_mode": {
    "name": "ipython",
    "version": 3
   },
   "file_extension": ".py",
   "mimetype": "text/x-python",
   "name": "python",
   "nbconvert_exporter": "python",
   "pygments_lexer": "ipython3",
   "version": "3.6.6"
  }
 },
 "nbformat": 4,
 "nbformat_minor": 4
}
