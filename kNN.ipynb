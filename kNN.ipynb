{
 "cells": [
  {
   "cell_type": "code",
   "execution_count": 80,
   "metadata": {},
   "outputs": [],
   "source": [
    "import random\n",
    "import math\n",
    "import pylab as pl\n",
    "import numpy as np\n",
    "from matplotlib.colors import ListedColormap"
   ]
  },
  {
   "cell_type": "code",
   "execution_count": 81,
   "metadata": {},
   "outputs": [],
   "source": [
    "def generateData (numberOfClassEl, numberOfClasses):\n",
    "    data = []\n",
    "    for classNum in range(numberOfClasses):\n",
    "        centerX, centerY = random.random()*5.0, random.random()*5.0\n",
    "        for rowNum in range(numberOfClassEl):\n",
    "            data.append([ [random.gauss(centerX,0.5), random.gauss(centerY,0.5)], classNum])\n",
    "    return data"
   ]
  },
  {
   "cell_type": "code",
   "execution_count": 82,
   "metadata": {},
   "outputs": [],
   "source": [
    "def splitTrainTest(data, testPercent):\n",
    "    trainData = []\n",
    "    testData  = []\n",
    "    for row in data:\n",
    "        if random.random() < testPercent:\n",
    "            testData.append(row)\n",
    "        else:\n",
    "            trainData.append(row)\n",
    "    return trainData, testData  "
   ]
  },
  {
   "cell_type": "code",
   "execution_count": 83,
   "metadata": {},
   "outputs": [],
   "source": [
    "def KNN (trainData, testData, k, numberOfClasses):    \n",
    "    def dist (a, b):\n",
    "        return math.sqrt((a[0] - b[0])**2 + (a[1] - b[1])**2)\n",
    "    \n",
    "    testLabels = []\n",
    "    \n",
    "    for testPoint in testData:\n",
    "        # Расстояние между точками из тестовой выборки и всеми точками из тренировочной выборки\n",
    "        testDist = [ [dist(testPoint, trainData[i][0]), trainData[i][1]] for i in range(len(trainData))]\n",
    "        # Количество точек каждого класса среди ближайших k\n",
    "        #How many points of each class among nearest K\n",
    "        stat = [0 for i in range(numberOfClasses)]\n",
    "        for d in sorted(testDist)[0:k]:\n",
    "            stat[d[1]] += 1\n",
    "        # Присвоение класса с наибольшей встречаемостью среди k ближайших соседей\n",
    "        testLabels.append( sorted(zip(stat, range(numberOfClasses)), reverse=True)[0][1] )\n",
    "    return testLabels"
   ]
  },
  {
   "cell_type": "code",
   "execution_count": 86,
   "metadata": {},
   "outputs": [
    {
     "name": "stdout",
     "output_type": "stream",
     "text": [
      "pred 0, act 0\n",
      "pred 0, act 0\n",
      "pred 0, act 0\n",
      "pred 0, act 0\n",
      "pred 0, act 0\n",
      "pred 0, act 0\n",
      "pred 2, act 1\n",
      "pred 2, act 1\n",
      "pred 1, act 1\n",
      "pred 1, act 1\n",
      "pred 1, act 1\n",
      "pred 2, act 1\n",
      "pred 2, act 1\n",
      "pred 1, act 1\n",
      "pred 1, act 1\n",
      "pred 2, act 2\n",
      "pred 2, act 2\n",
      "pred 2, act 2\n",
      "pred 2, act 2\n",
      "pred 2, act 2\n",
      "pred 2, act 2\n"
     ]
    },
    {
     "data": {
      "image/png": "[encoded data removed]",
      "text/plain": [
       "<Figure size 432x288 with 1 Axes>"
      ]
     },
     "metadata": {
      "needs_background": "light"
     },
     "output_type": "display_data"
    }
   ],
   "source": [
    "def create_and_classify_data(items_in_class_cnt, classes_cnt, k):   \n",
    "    trainData = generateData(items_in_class_cnt, classes_cnt)\n",
    "    trainData, testData = splitTrainTest(trainData, 0.3)\n",
    "    testData_points = [x[0] for x in testData]\n",
    "    \n",
    "    testMeshLabels = KNN(\n",
    "        trainData, \n",
    "        testData_points,\n",
    "        k, \n",
    "        classes_cnt)\n",
    "    \n",
    "    result = zip(testMeshLabels, [x[1] for x in testData])\n",
    "    for pred, act in result:\n",
    "        print(f'pred {pred}, act {act}')\n",
    "    \n",
    "    testColormap   = ListedColormap(['#FFAAAA', '#AAFFAA', '#AAAAAA'])\n",
    "    classColormap  = ListedColormap(['#FF0000', '#00FF00', '#0FFFFF'])\n",
    "    pl.scatter([trainData[i][0][0] for i in range(len(trainData))],\n",
    "               [trainData[i][0][1] for i in range(len(trainData))],\n",
    "               c=[trainData[i][1] for i in range(len(trainData))],\n",
    "               cmap=classColormap)\n",
    "    pl.scatter([testData[i][0][0] for i in range(len(testData))],\n",
    "               [testData[i][0][1] for i in range(len(testData))],\n",
    "               c=[testData[i][1] for i in range(len(testData))],\n",
    "               cmap=testColormap)\n",
    "    pl.show()\n",
    "    \n",
    "\n",
    "create_and_classify_data(20, 3, 4)"
   ]
  }
 ],
 "metadata": {
  "kernelspec": {
   "display_name": "Python 3",
   "language": "python",
   "name": "python3"
  },
  "language_info": {
   "codemirror_mode": {
    "name": "ipython",
    "version": 3
   },
   "file_extension": ".py",
   "mimetype": "text/x-python",
   "name": "python",
   "nbconvert_exporter": "python",
   "pygments_lexer": "ipython3",
   "version": "3.6.6"
  }
 },
 "nbformat": 4,
 "nbformat_minor": 4
}
